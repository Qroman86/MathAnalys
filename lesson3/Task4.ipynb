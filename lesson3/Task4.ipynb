{
 "cells": [
  {
   "cell_type": "code",
   "execution_count": 1,
   "metadata": {},
   "outputs": [
    {
     "name": "stdout",
     "output_type": "stream",
     "text": [
      "2\n",
      "v 2.5\n",
      "6\n",
      "v 2.6666666666666665\n",
      "24\n",
      "v 2.708333333333333\n",
      "120\n",
      "v 2.7166666666666663\n",
      "720\n",
      "v 2.7180555555555554\n",
      "5040\n",
      "v 2.7182539682539684\n",
      "40320\n",
      "v 2.71827876984127\n",
      "362880\n",
      "v 2.7182815255731922\n",
      "3628800\n",
      "v 2.7182818011463845\n",
      " result value: 2.7182818011463845\n"
     ]
    }
   ],
   "source": [
    "from math import e\n",
    "\n",
    "epsilon = pow(10, -7)\n",
    "\n",
    "def factorial(number):\n",
    "    value = 1\n",
    "    \n",
    "    while number > 0:\n",
    "        value = value * number\n",
    "        number = number - 1\n",
    "    print(value)\n",
    "    return value\n",
    "\n",
    "n = 2\n",
    "\n",
    "value = 2\n",
    "while abs(value - e) > epsilon:   \n",
    "    value = value + 1 / factorial (n) \n",
    "    print(f'v {value}')\n",
    "    n = n + 1 \n",
    "\n",
    "print(f' result value: {value}')"
   ]
  },
  {
   "cell_type": "code",
   "execution_count": null,
   "metadata": {},
   "outputs": [],
   "source": []
  }
 ],
 "metadata": {
  "kernelspec": {
   "display_name": "Python 3",
   "language": "python",
   "name": "python3"
  },
  "language_info": {
   "codemirror_mode": {
    "name": "ipython",
    "version": 3
   },
   "file_extension": ".py",
   "mimetype": "text/x-python",
   "name": "python",
   "nbconvert_exporter": "python",
   "pygments_lexer": "ipython3",
   "version": "3.8.5"
  }
 },
 "nbformat": 4,
 "nbformat_minor": 4
}
